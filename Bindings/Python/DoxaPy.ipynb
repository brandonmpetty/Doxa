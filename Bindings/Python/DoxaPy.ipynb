{
 "cells": [
  {
   "cell_type": "markdown",
   "id": "17ccb794-7c43-4c40-89ff-693df6b7b513",
   "metadata": {},
   "source": [
    "# DoxaPy Notebook\n",
    "\n",
    "https://github.com/brandonmpetty/Doxa\n",
    "\n",
    "DoxaPy is an image binarization library focused on local adaptive algorithms and metrics.\n",
    "This notebook will document the API while allowing you to interact with it.\n",
    "\n",
    "## Setup\n",
    "The first thing to do when getting started with this library is to install it.\n",
    "```\n",
    "pip install doxapy\n",
    "```\n",
    "Form more details, see: https://pypi.org/project/doxapy\n",
    "\n",
    "Alternatively, you can build the library from source as described in the README.MD.\n",
    "\n",
    "From there, it is as simple as importing the library.  NumPy and Pillow are two other libraries we will use in this demonstration."
   ]
  },
  {
   "cell_type": "code",
   "execution_count": null,
   "id": "532b64af-c7f0-4f68-87fe-c17d3322c219",
   "metadata": {},
   "outputs": [],
   "source": [
    "from PIL import Image\n",
    "import numpy as np\n",
    "import doxapy"
   ]
  },
  {
   "cell_type": "markdown",
   "id": "5fd90377-1177-4e16-aeb8-b1da0a525269",
   "metadata": {},
   "source": [
    "## Reading an Image\n",
    "The first step is to read the image you intend on processing.  The *read_image* helper function uses Pillow to read in a local image and convert it to grayscale.  We then use NumPy to turn that image into an array.\n",
    "\n",
    "DoxaPy was developed around PyBind 11 and the C++ based Doxa library, making it incredibly fast and efficient.  That said, not every aspect of the Doxa framework has been exposed to Python.  For example, the first step for many binarization algorithms involves color to grayscale conversion.  A lot of effort has gone into understanding the impact of different grayscale algorithms and their effect on binarization performance.  This is one aspect that is not directly exposed in DoxaPy, but is worth considering.  Here, we are using Pillow's \"L\" option to convert the image to grayscale which uses a \"ITU-R 601-2 luma transform.\"  This is the same as Doxa's BT601 function found in Grayscale.hpp."
   ]
  },
  {
   "cell_type": "code",
   "execution_count": null,
   "id": "5993f8a0-a499-412f-b832-767d97c8efe9",
   "metadata": {},
   "outputs": [],
   "source": [
    "def read_image(file):\n",
    "    return np.array(Image.open(file).convert('L'))"
   ]
  },
  {
   "cell_type": "code",
   "execution_count": null,
   "id": "a475bd49-b1ec-4ebd-b146-8cb819817a18",
   "metadata": {},
   "outputs": [],
   "source": [
    "image = read_image(\"../../README/2JohnC1V3.png\")\n",
    "display(Image.fromarray(image))"
   ]
  },
  {
   "cell_type": "markdown",
   "id": "3665c6d0-0a4e-4950-a025-69ae0dae60e3",
   "metadata": {},
   "source": [
    "## Converting the Image to Binary\n",
    "Converting an image into black and white may seem easy, but it has been the focus of much research spanning decades.  Doxa was designed to expose this research, traditionally mired by PHD technical jargon, in a very easy to consume fashion.  A lot of work was put into ensuring these algorithms were implemented correctly and effeciently.  Many of these algorithms were first made public by this project and many of them leverage state of the art enhacements to reduce memory utilization and increase speed of operation, found nowhere else.  For more information on an individual algorithm, click one of the links below.\n",
    "\n",
    "### Algorithms\n",
    "The Doxa library implements a large number of popular and unique local adaptive binarization algorithms.  Each algorithm has a set of parameters that are required for it to operate.  These parameters can vary from algorithm to algorithm.  Doxa provides sensible defaults that are applied automatically unless you supply your own.  Below is a list of algorithms and their defaults:\n",
    "\n",
    "* **OTSU**\n",
    "* **BERNSEN** - {\"window\": 75, \"threshold\": 100, \"contrast-limit\": 25}\n",
    "* **NIBLACK** - {\"window\": 75, \"k\": 0.2}\n",
    "* **SAUVOLA** - {\"window\": 75, \"k\": 0.2}\n",
    "* **WOLF** - {\"window\": 75, \"k\": 0.2}\n",
    "* **NICK** - {\"window\": 75, \"k\": -0.2}\n",
    "* **SU** - {\"window\": 9, \"minN\": 9}\n",
    "* **TRSINGH** - {\"window\": 75, \"k\": 0.2}\n",
    "* **BATAINEH**\n",
    "* **ISAUVOLA** - {\"window\": 75, \"k\": 0.2}\n",
    "* **WAN** - {\"window\": 75, \"k\": 0.2}\n",
    "* **GATOS** - {\"window\": 75, \"k\": 0.2, \"glyph\": 60}\n",
    "* **ADOTSU** - {\"window\": 75, \"k\": 0.1, \"R\": 0.1, \"distance\": window/2}"
   ]
  },
  {
   "cell_type": "code",
   "execution_count": null,
   "id": "656a290b-9c83-4ee4-9eee-6a5126e1e574",
   "metadata": {},
   "outputs": [],
   "source": [
    "# Initialize an image array with the same shape as our grayscale image\n",
    "binary_image = np.empty(image.shape, image.dtype)\n",
    "\n",
    "# Create an instance of our algorithm and initialize it based on the characteristics of the incoming image\n",
    "sauvola = doxapy.Binarization(doxapy.Binarization.Algorithms.SAUVOLA)\n",
    "sauvola.initialize(image)\n",
    "\n",
    "# Convert grayscale to binary\n",
    "sauvola.to_binary(binary_image, {\"window\": 75, \"k\": 0.2})\n",
    "display(Image.fromarray(binary_image))"
   ]
  },
  {
   "cell_type": "markdown",
   "id": "58ae263b-3341-4388-b0f8-0bae06f8a13d",
   "metadata": {},
   "source": [
    "One of the quickest and most efficient ways of turning your grayscale image into a binary image is to use the *update_to_binary* function.  Instead of allocating more memory to write the image to, it will update the existing image in-place.  It also only takes one line to write!"
   ]
  },
  {
   "cell_type": "code",
   "execution_count": null,
   "id": "6b444625-0b48-4197-b884-2f2ba591906e",
   "metadata": {},
   "outputs": [],
   "source": [
    "doxapy.Binarization.update_to_binary(doxapy.Binarization.Algorithms.SAUVOLA, image, {\"window\": 27, \"k\": 0.12})\n",
    "display(Image.fromarray(image))"
   ]
  },
  {
   "cell_type": "markdown",
   "id": "24d8b5dc-9b75-4c33-8814-50fc00082d40",
   "metadata": {},
   "source": [
    "## Performance Metrics\n",
    "In order to analyze the performance of an algorithm, Doxa provides a set of common metrics that can all be calculated with one function.  To start that process you need an exemplar binary image, or \"ground truth.\"  By comparing the ground truth to the resulting image of the binarization algorithm, you can start to compare the affects of different algorithms and algorithm parameters."
   ]
  },
  {
   "cell_type": "code",
   "execution_count": null,
   "id": "70ba6fef-7a29-4dcd-a75b-5fa4cf016414",
   "metadata": {},
   "outputs": [],
   "source": [
    "groundtruth_image = read_image(\"../../README/2JohnC1V3-GroundTruth.png\")\n",
    "display(Image.fromarray(groundtruth_image))"
   ]
  },
  {
   "cell_type": "code",
   "execution_count": null,
   "id": "90439c66-67d5-4b2d-a450-5c1c823f2414",
   "metadata": {},
   "outputs": [],
   "source": [
    "# Help us 'pretty print' our JSON\n",
    "import json\n",
    "\n",
    "# Both of these were done with the Sauvola algorithm, but with different parameters\n",
    "performance1 = doxapy.calculate_performance(groundtruth_image, binary_image)\n",
    "performance2 = doxapy.calculate_performance_ex(groundtruth_image, image, drdm=True, accuracy=True, mcc=True)\n",
    "\n",
    "print(\"Sauvola - Window = 75, K = 0.2\") # Default\n",
    "print(json.dumps(performance1, indent=2))\n",
    "print()\n",
    "print(\"Sauvola - Window = 27, K = 0.12\") # Adjusted\n",
    "print(json.dumps(performance2, indent=2))"
   ]
  }
 ],
 "metadata": {
  "kernelspec": {
   "display_name": "Python 3 (ipykernel)",
   "language": "python",
   "name": "python3"
  },
  "language_info": {
   "codemirror_mode": {
    "name": "ipython",
    "version": 3
   },
   "file_extension": ".py",
   "mimetype": "text/x-python",
   "name": "python",
   "nbconvert_exporter": "python",
   "pygments_lexer": "ipython3",
   "version": "3.11.4"
  }
 },
 "nbformat": 4,
 "nbformat_minor": 5
}
